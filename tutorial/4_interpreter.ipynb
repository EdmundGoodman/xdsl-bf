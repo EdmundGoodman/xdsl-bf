{
 "cells": [
  {
   "cell_type": "markdown",
   "id": "29303474",
   "metadata": {},
   "source": [
    "# Compiling BrainF with Python and LLVM, Fast -- Part 4: Interpreting\n"
   ]
  }
 ],
 "metadata": {
  "language_info": {
   "name": "python"
  }
 },
 "nbformat": 4,
 "nbformat_minor": 5
}
