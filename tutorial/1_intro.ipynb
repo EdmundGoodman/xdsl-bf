{
 "cells": [
  {
   "cell_type": "markdown",
   "id": "b8db80cd",
   "metadata": {},
   "source": [
    "# Compiling BrainF with Python and LLVM, Fast -- Part 1: Introduction\n"
   ]
  },
  {
   "cell_type": "markdown",
   "id": "6b860692",
   "metadata": {},
   "source": [
    "## Building a compiler, fast\n",
    "\n",
    "> \"Give me six hours to chop down a tree and I will spend the first four\n",
    "> sharpening the axe\"\n",
    ">\n",
    "> — *[commonly misattributed to Abraham Lincoln](https://quoteinvestigator.com/2014/03/29/sharp-axe/)*\n"
   ]
  },
  {
   "cell_type": "markdown",
   "id": "d0d8fb88",
   "metadata": {},
   "source": [
    "### MLIR"
   ]
  },
  {
   "cell_type": "markdown",
   "id": "5696b1f5",
   "metadata": {},
   "source": [
    "### xDSL"
   ]
  },
  {
   "cell_type": "markdown",
   "id": "01649632",
   "metadata": {},
   "source": [
    "## BrainF\n",
    "\n",
    "This blog post series focusses on the popular esoteric language we refer to as \"BrainF to cater to the whims of modern SEO.\n",
    "\n",
    "BrainF is interesting as it has a very short instruction set whilst still being\n",
    "Turing complete [^]. This short instruction set makes it difficult to write\n",
    "complex programs, but easy to write a correct compiler for it, having a trivial\n",
    "grammar and simple semantics, shown below:\n",
    "\n",
    "<!-- Table of instructions -->\n",
    "<!-- Grammar  -->"
   ]
  }
 ],
 "metadata": {
  "language_info": {
   "name": "python"
  }
 },
 "nbformat": 4,
 "nbformat_minor": 5
}
